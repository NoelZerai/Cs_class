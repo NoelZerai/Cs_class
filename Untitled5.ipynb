{
 "cells": [
  {
   "cell_type": "markdown",
   "id": "cbcf7bd4-962a-43ef-8a03-131a3f86c9e3",
   "metadata": {},
   "source": [
    "why do we model data?\n",
    "interpret the data/ make it easy to use \n",
    "\n",
    "two rules of of relationships \n",
    "mandatory and optional "
   ]
  }
 ],
 "metadata": {
  "kernelspec": {
   "display_name": "Python 3 (ipykernel)",
   "language": "python",
   "name": "python3"
  },
  "language_info": {
   "codemirror_mode": {
    "name": "ipython",
    "version": 3
   },
   "file_extension": ".py",
   "mimetype": "text/x-python",
   "name": "python",
   "nbconvert_exporter": "python",
   "pygments_lexer": "ipython3",
   "version": "3.12.1"
  }
 },
 "nbformat": 4,
 "nbformat_minor": 5
}
