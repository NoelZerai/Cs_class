{
 "cells": [
  {
   "cell_type": "markdown",
   "id": "df9a846f-7787-45b2-960d-dad78d5e995a",
   "metadata": {},
   "source": [
    "pseudo code\n",
    "interger a,b,c\n",
    "for(each a from 2 to 4)\n",
    "print c \n",
    "b = b - 1\n",
    "c = c + b\n",
    "end for\n",
    "\n",
    "Matplotlib plotting\n",
    "edward tuftes graphical principles\n",
    "1. represenation of numbers should match their true porportions\n",
    "2. labeling should be clear, detailed and thorough\n",
    "3. designs should show only data variations, not design\n",
    "4. standarized units are best when representing money\n",
    "5. the number of dimensions visualized should equal the number of dimensions in the data\n",
    "6. representation should not imply a subjective or false context.\n",
    "\n",
    "covariance an correlation\n",
    "covarience is to correlation what variance is to standard deviation\n",
    "\n",
    "covaraiance tells us how much and to what extent two random variables change together. in other words how much will one variable change as another variable changes. \n",
    "\n",
    "positive = Variables change in the same direction\n",
    "negative = variables change in the opposite direction\n",
    "np.cov(belize_df['number_of_reviews'], belize_df[number_of_prics])\n",
    "\n"
   ]
  },
  {
   "cell_type": "code",
   "execution_count": null,
   "id": "bb588543-c4e9-4f3d-91b8-701c7b944dd6",
   "metadata": {},
   "outputs": [],
   "source": [
    "titanic_df[\"embarked_new\"]=np.where(titanic_df[\"Embarked\"]==\"C\", \"Cherseber\",\n",
    "titanic_df[\"embarked_new\"]=np.where(titanic_df[\"Embarked\"]==\"Q\", \"queensland\""
   ]
  },
  {
   "cell_type": "code",
   "execution_count": null,
   "id": "47803d80-e3fb-441d-8c8f-847bc774fd51",
   "metadata": {},
   "outputs": [],
   "source": [
    "titanic_df[\"mr_mrs\"] = np.where(titanic_df[\"Name\"].str.contains(\"Mrs.\"),\"Mrs\",\n",
    "                                np.where(titanic"
   ]
  },
  {
   "cell_type": "code",
   "execution_count": null,
   "id": "0b270e7b-f937-446f-b7e9-d743d4e10f40",
   "metadata": {},
   "outputs": [],
   "source": [
    "basic plots \n",
    "#(x-axis"
   ]
  },
  {
   "cell_type": "code",
   "execution_count": null,
   "id": "bf2dad0b-f390-4c20-9bd8-bf0d918ed051",
   "metadata": {},
   "outputs": [],
   "source": [
    "histograms\n",
    "only plotting one column, shows you how many of a particular column"
   ]
  },
  {
   "cell_type": "code",
   "execution_count": null,
   "id": "d3a10517-9513-45e4-8b58-c8de4778ff5a",
   "metadata": {},
   "outputs": [],
   "source": []
  }
 ],
 "metadata": {
  "kernelspec": {
   "display_name": "Python 3 (ipykernel)",
   "language": "python",
   "name": "python3"
  },
  "language_info": {
   "codemirror_mode": {
    "name": "ipython",
    "version": 3
   },
   "file_extension": ".py",
   "mimetype": "text/x-python",
   "name": "python",
   "nbconvert_exporter": "python",
   "pygments_lexer": "ipython3",
   "version": "3.12.1"
  }
 },
 "nbformat": 4,
 "nbformat_minor": 5
}
