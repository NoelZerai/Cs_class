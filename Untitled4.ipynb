{
 "cells": [
  {
   "cell_type": "markdown",
   "id": "2279cd20-fd94-4c94-b68e-85f26398220b",
   "metadata": {},
   "source": [
    "Logistic regression \n",
    "used when trying to predict the answer to a yes/no question or any binary question\n",
    "response follows an s-SHAPED CURV\n",
    "wAYS TO EVALUATE MODELS:\n",
    "Accuracy = true psotitves + true negatives\n",
    "Precisions = tp\n",
    "Recall = tp\n",
    "F1score = 2 precision*recall\n",
    "over fitting and underfitting\n",
    "over fitting a problem that comes up when the code can not make any generiliations\n",
    "underfitting; when the code is overgeneralized"
   ]
  },
  {
   "cell_type": "markdown",
   "id": "15010cf3",
   "metadata": {},
   "source": [
    "import numpy as np\n",
    "import\n",
    "\n"
   ]
  },
  {
   "cell_type": "code",
   "execution_count": null,
   "id": "de818917",
   "metadata": {},
   "outputs": [],
   "source": [
    "from statmodels.formula.api import logit\n",
    "\n",
    "#no interaction - minimal correlation between variables, so we can \n",
    "#seperate them and dont need to account for them speding on each other\n",
    "age_gl_int = logit('outcome - Age + Glucose', data=diabetes_df).fit()\n",
    "print(age_gl_no_int.params) \n",
    "#outcomes = -5.9 + .02*Age + 0.4*Glucose"
   ]
  },
  {
   "cell_type": "code",
   "execution_count": null,
   "id": "f8c0b45a",
   "metadata": {},
   "outputs": [],
   "source": [
    "#with interaction\n",
    "age-GL_NO_INT = LOGIT('Outcome - Age * Glucose', data=diabetes_df).fit()\n",
    "print(age_gl_no_int.params)\n",
    "#Outcome = -9.5 + 0.13*Age + 0.06*Glucose - 0.0008"
   ]
  },
  {
   "cell_type": "code",
   "execution_count": null,
   "id": "3d8840f4",
   "metadata": {},
   "outputs": [],
   "source": [
    "from sk.learn.linear_model import LogisticRegression\n",
    "from sk.learn.model_selection import train_test_split\n",
    "from sklearn.preprocesing import standard Scaler\n",
    "\n",
    "x = diabetes_df.drop('Outcome',axis = 1)\n",
    "y = diabetes_df['Outcome']\n",
    "\n",
    "#split the data into training and test set\n",
    "#stratification can be (but is not always) quite helpful\n",
    "#it tries to split the test data into groups that represent the data well\n",
    "# instead of randomly selecting from the full set\n",
    "X_train, X_test, y_train, y_test = train_test_split(X, y, test_size=0.2,random_state=32,stratify=y)\n",
    "#standaardize \n",
    "sc = standardScaler()\n",
    "x_train = sc.fit_transform(x_train)\n"
   ]
  },
  {
   "cell_type": "code",
   "execution_count": null,
   "id": "fdc431b3",
   "metadata": {},
   "outputs": [],
   "source": [
    "from sklearn.metrics import confusion_matrix\n",
    "\n",
    "conf_matrix = confusion_matrix(y_test, y_predicted)\n"
   ]
  },
  {
   "cell_type": "code",
   "execution_count": null,
   "id": "115b3506",
   "metadata": {},
   "outputs": [],
   "source": []
  }
 ],
 "metadata": {
  "kernelspec": {
   "display_name": "Python 3 (ipykernel)",
   "language": "python",
   "name": "python3"
  },
  "language_info": {
   "codemirror_mode": {
    "name": "ipython",
    "version": 3
   },
   "file_extension": ".py",
   "mimetype": "text/x-python",
   "name": "python",
   "nbconvert_exporter": "python",
   "pygments_lexer": "ipython3",
   "version": "3.9.6"
  }
 },
 "nbformat": 4,
 "nbformat_minor": 5
}
