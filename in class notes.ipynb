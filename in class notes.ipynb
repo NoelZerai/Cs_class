{
 "cells": [
  {
   "cell_type": "code",
   "execution_count": null,
   "id": "4b1a28d3-9737-4142-9a27-08c6e43fd840",
   "metadata": {},
   "outputs": [],
   "source": [
    "#create a scenario where x starts at 3 and is incremented by 1\n",
    "#you print the value of x while x is less than 10\n",
    "x = 3\n",
    "while x < 10\n",
    "    print(x)\n",
    "\n"
   ]
  },
  {
   "cell_type": "code",
   "execution_count": null,
   "id": "0a949a38-f31e-4489-b41e-a5b335a7050f",
   "metadata": {},
   "outputs": [],
   "source": [
    "#for loops\n",
    "cats = [\"Dexter\",\"Pharaoh\", \"Oreo\",\"Mitas\",\"Enzo\",\"Warmonger\"]\n"
   ]
  },
  {
   "cell_type": "code",
   "execution_count": null,
   "id": "2c60fd08-f5e3-4c46-a941-0a9624c8fdf6",
   "metadata": {},
   "outputs": [],
   "source": [
    "# range(start,stop[,step])\n",
    "for r in range(2,10,2):\n",
    "    print(r)"
   ]
  },
  {
   "cell_type": "code",
   "execution_count": null,
   "id": "7eae1260-976a-4687-8322-ca1bb5d155e2",
   "metadata": {},
   "outputs": [],
   "source": [
    "#functions \n",
    "#functions let us encapsulate chunks of code that we might want to use again\n",
    "def comparing(a,b):\n",
    "    if a == b:\n",
    "        print(\"they are equal\")\n",
    "    elif a>b:\n",
    "        print(\"a is greater\")\n",
    "    elif b>a:\n",
    "        print('b is greater\")           "
   ]
  },
  {
   "cell_type": "code",
   "execution_count": null,
   "id": "f9bfcbd9-0061-44c3-be9b-f202739f4799",
   "metadata": {},
   "outputs": [],
   "source": [
    "Classes\n",
    "#the three types: class methods, static methods, and instance methods\n",
    "#Need to create an object to all Non-static methods\n",
    "#class methods: can modify class state, Can't modify object state, Used for factory functions\n",
    "#class method: Can't access class state, Can't access object state, Used for utility functions\n",
    "#Instances method Can modify class state, Can modify object state"
   ]
  },
  {
   "cell_type": "code",
   "execution_count": null,
   "id": "3c319560-81d4-465e-823a-46238fe4b5f8",
   "metadata": {},
   "outputs": [],
   "source": []
  }
 ],
 "metadata": {
  "kernelspec": {
   "display_name": "Python 3 (ipykernel)",
   "language": "python",
   "name": "python3"
  },
  "language_info": {
   "codemirror_mode": {
    "name": "ipython",
    "version": 3
   },
   "file_extension": ".py",
   "mimetype": "text/x-python",
   "name": "python",
   "nbconvert_exporter": "python",
   "pygments_lexer": "ipython3",
   "version": "3.12.1"
  }
 },
 "nbformat": 4,
 "nbformat_minor": 5
}
