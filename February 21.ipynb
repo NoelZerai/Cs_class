{
 "cells": [
  {
   "cell_type": "markdown",
   "id": "2ead9330-889f-46e2-b7b7-ace9b881ca74",
   "metadata": {},
   "source": [
    "multiple linear regression\n",
    "predicts a dependent variaible from multiple independent variables. \"Multivariate\" means the result is a vector\n",
    "How do we know which columns to choose? We look at correlations, we compare the R squared values before and after a feature is added and sklearn.feature_selection has many functions to assist with feature selection. \n",
    "y=m1x1+m2x2+...+b\n",
    "means squared error\n",
    "R and R-Squared "
   ]
  },
  {
   "cell_type": "code",
   "execution_count": null,
   "id": "b30e42ec-7a53-4e8e-9035-ec6b52891b81",
   "metadata": {},
   "outputs": [],
   "source": [
    "KNN\n",
    "from sklearn.neighbors import kNeighborsClassifier\n",
    "from sklearn.model_selection import train_test_split\n",
    "\n",
    "diabetes_df = pd.read_csv(\"diabetes.csv\")\n",
    "diabetes_df.head()"
   ]
  },
  {
   "cell_type": "code",
   "execution_count": null,
   "id": "63ff7df3-0300-4bb9-bd0a-5b8e4b93f970",
   "metadata": {},
   "outputs": [],
   "source": [
    "boxplot = diabetes_df.boxplot(column=[\"Age\"),"
   ]
  },
  {
   "cell_type": "code",
   "execution_count": null,
   "id": "9908e9d0",
   "metadata": {},
   "outputs": [],
   "source": [
    "x = diabetes_df.drop('Outcome', axis = 1)\n",
    "y = diabetes_df['Outcome']\n",
    "\n",
    "X_train, X_test,y_train, y_test = train_test_split(X,y, test_size = 0.3, random_state = 33)\n",
    "\n",
    "#satndardize/Normalize - transforming values so that the mean is 0 and SD is 1 \n",
    "from sklearn.preprocessing import StandardScaler\n",
    "sc = StandardScaler()\n",
    "X_train = sc.fit_transform(X_train)\n",
    "X_test = sc.fit_transform(X_test)\n",
    "\n",
    "knn = KNeighborsClassifier(n_neighbors=13)\n",
    "knn.fit(X_train, y_train)\n"
   ]
  },
  {
   "cell_type": "code",
   "execution_count": null,
   "id": "2d4e12f8",
   "metadata": {},
   "outputs": [],
   "source": [
    "print(knn.score(X_test, y_test))"
   ]
  },
  {
   "cell_type": "code",
   "execution_count": null,
   "id": "2aea38fd",
   "metadata": {},
   "outputs": [],
   "source": [
    "diabetes_pred_df = pd.Dataframe(X_test, columns = diabetes_df.columns(0:0))\n",
    "diabetes_pred_df[]"
   ]
  },
  {
   "cell_type": "code",
   "execution_count": null,
   "id": "e600fbc2",
   "metadata": {},
   "outputs": [],
   "source": [
    "from sklearn.metrics import confusion_matrix, ConfusionMatrixDisplay\n",
    "\n",
    "confusion_matrix(y_test, y_predict)"
   ]
  },
  {
   "cell_type": "code",
   "execution_count": null,
   "id": "8343bf0c",
   "metadata": {},
   "outputs": [],
   "source": [
    "ConfusionMatrixDisplay.fromestimater(knn, X_test, y_test)\n"
   ]
  }
 ],
 "metadata": {
  "kernelspec": {
   "display_name": "Python 3 (ipykernel)",
   "language": "python",
   "name": "python3"
  },
  "language_info": {
   "codemirror_mode": {
    "name": "ipython",
    "version": 3
   },
   "file_extension": ".py",
   "mimetype": "text/x-python",
   "name": "python",
   "nbconvert_exporter": "python",
   "pygments_lexer": "ipython3",
   "version": "3.12.1"
  }
 },
 "nbformat": 4,
 "nbformat_minor": 5
}
