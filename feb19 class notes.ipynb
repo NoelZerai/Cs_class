{
 "cells": [
  {
   "cell_type": "markdown",
   "id": "d0aee69a-3d8c-428d-88df-f76891ffefd4",
   "metadata": {},
   "source": [
    "superfized ex: spam, fraud etc.\n",
    "unsupervised: image recognition, putting customers in segments.\n",
    "\n",
    "supervised learning\n",
    "\n",
    "Linear regression \n",
    "the purpose of linear regression is to model and predict the relationship between independent and dependent variables.\n",
    "\n",
    "R and R squared \n",
    "R is the correlation between two variables \n",
    "R squared is the swuare of the correlation \n",
    "\n",
    "Classification-KNN\n",
    "We know the outcome but we try to find the outcome of a data point based on votes from the nearest neighbor. (data points around it)\n"
   ]
  },
  {
   "cell_type": "code",
   "execution_count": null,
   "id": "fefc26ae-e913-4d23-8d69-ae33c6929f34",
   "metadata": {},
   "outputs": [],
   "source": [
    "imporant numpy as np \n",
    "import pandas as pd\n",
    "import matplotlib.pyplot as plt\n",
    "import seaborn as sns\n",
    "\n",
    "from sklearn.model_selection import train_test_split\n",
    "crime_df = \n",
    "\n",
    "crime_df.corr()"
   ]
  },
  {
   "cell_type": "code",
   "execution_count": null,
   "id": "e465240c-d72f-44a8-aaa3-b90264068c6d",
   "metadata": {},
   "outputs": [],
   "source": [
    "sns.heatmap(crime_df.corr(),annot+True)"
   ]
  },
  {
   "cell_type": "code",
   "execution_count": null,
   "id": "64ba2754-92de-452f-b49b-ba2ecc9f39ee",
   "metadata": {},
   "outputs": [],
   "source": [
    "from sklearn,linear_module import LinearRegression\n",
    "crime_df = crime_df[['X5,X1']]\n",
    "#x is what we are using to predict\n",
    "x = \n",
    "# y is what we are predicting\n",
    "y = np.array(crime_df(['X1']).reshape(-1,1)\n",
    "#1. train-test split\n",
    "X_train, X_test, y_train,y_test= train_test_split(X, y, test size=0.3, random_state=32)\n",
    "             "
   ]
  },
  {
   "cell_type": "code",
   "execution_count": null,
   "id": "374e06ca-cfa9-4a67-8a25-12c9250d95f0",
   "metadata": {},
   "outputs": [],
   "source": [
    "#2 create the model\n",
    "regression_model = LinearRegression()\n",
    "regression_model.fit(X_train, y_train)"
   ]
  },
  {
   "cell_type": "code",
   "execution_count": null,
   "id": "6a5647d6-c613-42e5-9a9d-7232a5051e54",
   "metadata": {},
   "outputs": [],
   "source": [
    "#3 predict new values\n",
    "y_"
   ]
  },
  {
   "cell_type": "code",
   "execution_count": null,
   "id": "a7c040c6-4a50-4f14-a246-9302eca39fe7",
   "metadata": {},
   "outputs": [],
   "source": [
    "#r squared\n",
    "accuracy_score = regression_model.score(X_test, y_test)\n",
    "print(accuracy_score)"
   ]
  },
  {
   "cell_type": "code",
   "execution_count": null,
   "id": "817f746a-5a03-45ee-a13c-f517ec4a31e2",
   "metadata": {},
   "outputs": [],
   "source": [
    "from sklearn.metrics import r2_score\n",
    "r2_score(y_test, y_pred)\n"
   ]
  },
  {
   "cell_type": "code",
   "execution_count": null,
   "id": "d786c3a4-2ba9-4bef-8d51-4916f178552e",
   "metadata": {},
   "outputs": [],
   "source": [
    "plt.scatter(X_test,y_test, color = 'b')"
   ]
  }
 ],
 "metadata": {
  "kernelspec": {
   "display_name": "Python 3 (ipykernel)",
   "language": "python",
   "name": "python3"
  },
  "language_info": {
   "codemirror_mode": {
    "name": "ipython",
    "version": 3
   },
   "file_extension": ".py",
   "mimetype": "text/x-python",
   "name": "python",
   "nbconvert_exporter": "python",
   "pygments_lexer": "ipython3",
   "version": "3.12.1"
  }
 },
 "nbformat": 4,
 "nbformat_minor": 5
}
