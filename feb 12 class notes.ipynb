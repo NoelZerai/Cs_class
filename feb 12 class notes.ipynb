{
 "cells": [
  {
   "cell_type": "markdown",
   "id": "94f59d42-16d9-44c5-9d08-9efa40eaf5d0",
   "metadata": {},
   "source": [
    "scales of measurement \n",
    "Nominal no natural order\n",
    "ordinal categories where order matters but the difference between them is neither clear nor even\n",
    "interval there is order and the difference between two values is meaningful. like tmeperature credit scores etc. \n",
    "ratio the same as interval except it has a concept of 0. there are no negative numbers. "
   ]
  },
  {
   "cell_type": "code",
   "execution_count": null,
   "id": "5238a547-906b-4914-b6d7-daf9a9950645",
   "metadata": {},
   "outputs": [],
   "source": [
    "#class notes jeoperdy data cleaning\n",
    "data_df['AirDate']=pd.to_datetime (data_df['AirDate'], format = %m/%d/%y')\n",
    "#preferable to use year-month-day for eease of sortability\n",
    "data_df.head()\n",
    "data_df.dtypes\n",
    "#assign is usedd to assign a new column\n",
    "data_df = data_df.assign(month = lambda x : x['AirDate'].dt.month)\n",
    "#filters\n",
    "value_list = data_df['Value'].tolist()\n",
    "value_list = value_list[0:50]\n",
    "value_list\n"
   ]
  },
  {
   "cell_type": "code",
   "execution_count": null,
   "id": "93b0a7c0-92d0-44ef-9e74-16fcb320282b",
   "metadata": {},
   "outputs": [],
   "source": [
    "#what is we want to work with data but we want to perserve\n",
    "#the original values?\n",
    "filtered_list = filter(lambda num: int(num.replace(\"$\",\"\")))\n",
    "                                                .replace(\" \", \"\").replace(\",\",\"\"))> 300, \n",
    "                                                value list"
   ]
  },
  {
   "cell_type": "code",
   "execution_count": null,
   "id": "637a7592-cc2d-45e0-9e3b-9d3f61b678a2",
   "metadata": {},
   "outputs": [],
   "source": [
    "#filters\n",
    "value_list = data_df['Value'].tolist()\n",
    "value_list = value_list[0:50]\n",
    "value_list"
   ]
  }
 ],
 "metadata": {
  "kernelspec": {
   "display_name": "Python 3 (ipykernel)",
   "language": "python",
   "name": "python3"
  },
  "language_info": {
   "codemirror_mode": {
    "name": "ipython",
    "version": 3
   },
   "file_extension": ".py",
   "mimetype": "text/x-python",
   "name": "python",
   "nbconvert_exporter": "python",
   "pygments_lexer": "ipython3",
   "version": "3.12.1"
  }
 },
 "nbformat": 4,
 "nbformat_minor": 5
}
