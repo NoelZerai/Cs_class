{
 "cells": [
  {
   "cell_type": "code",
   "execution_count": null,
   "id": "bef94403-9a1e-49a9-9a22-0c1cd7e5d212",
   "metadata": {},
   "outputs": [],
   "source": [
    "#ls just lists the files in the directory\n",
    "#cd changes the directory "
   ]
  },
  {
   "cell_type": "code",
   "execution_count": null,
   "id": "036ffef0-4535-4f74-ad54-c84e13d55171",
   "metadata": {},
   "outputs": [],
   "source": [
    "x = input() \n",
    "print('The variable x has a value of:' + x)"
   ]
  },
  {
   "cell_type": "code",
   "execution_count": null,
   "id": "b59da11e-4d25-44fd-a5fe-0980a3516dc7",
   "metadata": {},
   "outputs": [],
   "source": []
  }
 ],
 "metadata": {
  "kernelspec": {
   "display_name": "Python 3 (ipykernel)",
   "language": "python",
   "name": "python3"
  },
  "language_info": {
   "codemirror_mode": {
    "name": "ipython",
    "version": 3
   },
   "file_extension": ".py",
   "mimetype": "text/x-python",
   "name": "python",
   "nbconvert_exporter": "python",
   "pygments_lexer": "ipython3",
   "version": "3.12.1"
  }
 },
 "nbformat": 4,
 "nbformat_minor": 5
}
