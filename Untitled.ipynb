{
 "cells": [
  {
   "cell_type": "code",
   "execution_count": 1,
   "id": "541a8908-4acc-4670-976e-356dfdfc2227",
   "metadata": {},
   "outputs": [
    {
     "ename": "ModuleNotFoundError",
     "evalue": "No module named 'pandas'",
     "output_type": "error",
     "traceback": [
      "\u001b[0;31m---------------------------------------------------------------------------\u001b[0m",
      "\u001b[0;31mModuleNotFoundError\u001b[0m                       Traceback (most recent call last)",
      "Cell \u001b[0;32mIn[1], line 1\u001b[0m\n\u001b[0;32m----> 1\u001b[0m \u001b[38;5;28;01mimport\u001b[39;00m \u001b[38;5;21;01mpandas\u001b[39;00m \u001b[38;5;28;01mas\u001b[39;00m \u001b[38;5;21;01mpd\u001b[39;00m\n",
      "\u001b[0;31mModuleNotFoundError\u001b[0m: No module named 'pandas'"
     ]
    }
   ],
   "source": [
    "import pandas as pd"
   ]
  },
  {
   "cell_type": "code",
   "execution_count": null,
   "id": "13ef0faf-fa4b-4fcf-b9b1-fd1f1f7af71d",
   "metadata": {},
   "outputs": [],
   "source": [
    "a = np.array([1,2,3,4,5,6,])"
   ]
  },
  {
   "cell_type": "code",
   "execution_count": null,
   "id": "43095235-9870-4dc8-808d-9c3b63e623dd",
   "metadata": {},
   "outputs": [],
   "source": [
    "a = a.reshape(3,2)"
   ]
  },
  {
   "cell_type": "code",
   "execution_count": null,
   "id": "4b3ca8b3-f457-43ac-a90d-4e839ca67073",
   "metadata": {},
   "outputs": [],
   "source": [
    "a = a.reshape(2,-1)"
   ]
  },
  {
   "cell_type": "code",
   "execution_count": null,
   "id": "17a49226-9052-459c-81ab-1ecc3c96ae7b",
   "metadata": {},
   "outputs": [],
   "source": [
    "a = np arange(10).reshape(5,2)"
   ]
  },
  {
   "cell_type": "code",
   "execution_count": null,
   "id": "184ace81-35e1-45c4-9dfe-0ba039003270",
   "metadata": {},
   "outputs": [],
   "source": [
    "a = a.T"
   ]
  },
  {
   "cell_type": "code",
   "execution_count": null,
   "id": "82c082df-6738-41af-ad93-0322a73405ad",
   "metadata": {},
   "outputs": [],
   "source": [
    "a = a.transpose"
   ]
  },
  {
   "cell_type": "code",
   "execution_count": null,
   "id": "34f5ebb8-7cc5-42cf-a1e9-78e3cf12fc2c",
   "metadata": {},
   "outputs": [],
   "source": [
    "np.sqrtt(a)"
   ]
  },
  {
   "cell_type": "code",
   "execution_count": null,
   "id": "49b9f825-7d95-4d7e-86fe-74f4a0749697",
   "metadata": {},
   "outputs": [],
   "source": [
    "#pandas\n",
    "#python modules used for data analysis and exploration\n",
    "# two main useful data structures: series, dataFrames\n",
    "#Can impot data files and turn them into dataFrames\n",
    "# If you get stuck, look at the documentation \n",
    "# primarily used to handle medium size data \n",
    "\n"
   ]
  }
 ],
 "metadata": {
  "kernelspec": {
   "display_name": "Python 3 (ipykernel)",
   "language": "python",
   "name": "python3"
  },
  "language_info": {
   "codemirror_mode": {
    "name": "ipython",
    "version": 3
   },
   "file_extension": ".py",
   "mimetype": "text/x-python",
   "name": "python",
   "nbconvert_exporter": "python",
   "pygments_lexer": "ipython3",
   "version": "3.12.1"
  }
 },
 "nbformat": 4,
 "nbformat_minor": 5
}
