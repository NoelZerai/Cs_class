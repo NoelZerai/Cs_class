{
 "cells": [
  {
   "cell_type": "code",
   "execution_count": null,
   "metadata": {},
   "outputs": [],
   "source": [
    "# for multiple linear regression (and other models) we need to use \n",
    "# variables "
   ]
  },
  {
   "cell_type": "code",
   "execution_count": null,
   "id": "ab14b103",
   "metadata": {},
   "outputs": [],
   "source": [
    "X = crime_df[['X2','X5']]\n",
    "y = crime_df['X1']\n",
    "\n",
    "X_train, X_test, y_train, y_test + train_test_split(X,y test_size=0.3, random_state=32)\n"
   ]
  },
  {
   "cell_type": "code",
   "execution_count": null,
   "id": "88fcbe1f",
   "metadata": {},
   "outputs": [],
   "source": [
    "from sklearn.linear_model import Linearraegression\n",
    "regression = LinearRegression()\n",
    "y_pred = regression.predict(X_test)\n",
    "y_pred"
   ]
  },
  {
   "cell_type": "code",
   "execution_count": null,
   "id": "8957b8f6",
   "metadata": {},
   "outputs": [],
   "source": [
    "acccuracy_score = regression.score(X_test, y_test)\n",
    "accuracy_score"
   ]
  },
  {
   "cell_type": "code",
   "execution_count": null,
   "id": "f9599942",
   "metadata": {},
   "outputs": [],
   "source": [
    "regression.coef"
   ]
  },
  {
   "cell_type": "code",
   "execution_count": null,
   "id": "24cad4b1",
   "metadata": {},
   "outputs": [],
   "source": [
    "# what is the equation for the model\n",
    "# what does X1 = 0.53*x2 + 5.18*x5"
   ]
  },
  {
   "cell_type": "code",
   "execution_count": null,
   "id": "617f95f4",
   "metadata": {},
   "outputs": [],
   "source": [
    "# OLS Regression\n",
    "\n",
    "#OLS (ordinary least squares) regression is a type of linear regression that olets you handle interactions as well as features that dont have interactions\n",
    "# with OLS regression you can incorporate features that are correlated stat models"
   ]
  },
  {
   "cell_type": "code",
   "execution_count": null,
   "id": "b7371cf4",
   "metadata": {},
   "outputs": [],
   "source": [
    "#pip3 install statsmodels\n",
    "from statmodels.formula.api import ols\n",
    "diabetes "
   ]
  },
  {
   "cell_type": "code",
   "execution_count": null,
   "id": "617475f9",
   "metadata": {},
   "outputs": [],
   "source": [
    "diabetes_vs_glucose = ols(\"Outcome Glucose\", data=diabetes_df).fit()\n",
    "print(diabetes_df.params)\n",
    "#outcome = -0.492 + .0069*glucose"
   ]
  },
  {
   "cell_type": "code",
   "execution_count": null,
   "id": "783b97d0",
   "metadata": {},
   "outputs": [],
   "source": [
    "sns.scatterplot(x='Glucose',\n",
    "                y = 'Outcone,\n",
    "                data=diabetes_df)\n",
    "plt.axline(xy=(0,intercept), slope=slope,)\n",
    "#OLS regression is not the answer for modeling this data set\n",
    "# because the outcomes are binary and OLS works best when we have a gradient\n",
    "# of outcomes were trying to preict (continous data)\n",
    "# but we can use logistic regression to predict binary outcomes"
   ]
  },
  {
   "cell_type": "code",
   "execution_count": null,
   "id": "60947321",
   "metadata": {},
   "outputs": [],
   "source": [
    "#there are just example of how the code works\n",
    "# the outcomes are meaningless\n",
    "#no interaction - low or no correlation between used predict to outcome\n",
    "age_gl_no_int = ols('oOutcome Age + Glucose', data = diabetes_df).fit()\n",
    "print(age_gl_no_int_param)\n",
    "#Outcome = -.6 + 0.005*Age + 0.006*Glucose"
   ]
  },
  {
   "cell_type": "code",
   "execution_count": null,
   "id": "15e3e221",
   "metadata": {},
   "outputs": [],
   "source": [
    "# with interaction - there is correlation between params used to predict outcome\n",
    "age_gl_int = ols('Outcome Age*Glucose', data = diabetes_df).fit()\n",
    "print(age_gl_inty.params)\n",
    "#Outcome = -.91 +00."
   ]
  }
 ],
 "metadata": {
  "language_info": {
   "name": "python"
  }
 },
 "nbformat": 4,
 "nbformat_minor": 5
}
