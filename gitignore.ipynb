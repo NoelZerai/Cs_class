{
 "cells": [
  {
   "cell_type": "markdown",
   "id": "1bf6911c-72ad-4901-97c5-01e38e8ea2db",
   "metadata": {},
   "source": [
    "\n",
    "\n",
    "## About Me\n",
    "Hello! I'm Noel, a freshmen here at SLU studying comp sci. My nationality is eritrean but I was raised in St.Louis.\n",
    "my hobbies include;\n",
    "+ soccer\n",
    "+ reading\n",
    "+ watching tv shows\n",
    "\n",
    "\n"
   ]
  },
  {
   "cell_type": "code",
   "execution_count": 4,
   "id": "f7621428-d66c-4c90-9315-2507ce3c7211",
   "metadata": {},
   "outputs": [],
   "source": [
    "# .gitignore\n",
    "\n"
   ]
  },
  {
   "cell_type": "code",
   "execution_count": null,
   "id": "42a5b96b-1cec-488b-a4c5-352df637298b",
   "metadata": {},
   "outputs": [],
   "source": []
  }
 ],
 "metadata": {
  "kernelspec": {
   "display_name": "Python 3 (ipykernel)",
   "language": "python",
   "name": "python3"
  },
  "language_info": {
   "codemirror_mode": {
    "name": "ipython",
    "version": 3
   },
   "file_extension": ".py",
   "mimetype": "text/x-python",
   "name": "python",
   "nbconvert_exporter": "python",
   "pygments_lexer": "ipython3",
   "version": "3.12.1"
  }
 },
 "nbformat": 4,
 "nbformat_minor": 5
}
