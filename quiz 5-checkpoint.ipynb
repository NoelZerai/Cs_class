{
 "cells": [
  {
   "cell_type": "code",
   "execution_count": null,
   "id": "814434d8",
   "metadata": {},
   "outputs": [],
   "source": [
    "riginal_list = [-1,2,-3,4,-5,6,-7,8,-9,10,-11,12]\n",
    "\n",
    "sort_list = sorted(original_list, key = lambda i: 0 if i == 0 else -i/1)\n",
    "\n",
    "print(original_list)\n",
    "\n",
    "\n",
    "resulting_list = [2,4,6,8,10,12,-11,-9,-7,-5,-3,-1]"
   ]
  },
  {
   "cell_type": "code",
   "execution_count": null,
   "id": "ef2a693f",
   "metadata": {},
   "outputs": [],
   "source": [
    "import pandas as pd\n",
    "import numpy as np\n",
    "data_df = pd.read_csv(\"JEOPARDY_DATA.csv_df)\n",
    "#data_df = pd.get dummies(data_df, coloumns=('Round'))\n",
    "data_df.head()"
   ]
  },
  {
   "cell_type": "code",
   "execution_count": null,
   "id": "78a3d6bf",
   "metadata": {},
   "outputs": [],
   "source": []
  }
 ],
 "metadata": {
  "language_info": {
   "name": "python"
  }
 },
 "nbformat": 4,
 "nbformat_minor": 5
}
