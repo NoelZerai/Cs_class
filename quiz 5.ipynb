{
 "cells": [
  {
   "cell_type": "code",
   "execution_count": 6,
   "id": "8a48117b-f52e-4b5b-bd7c-772cdb1537a6",
   "metadata": {},
   "outputs": [
    {
     "name": "stdout",
     "output_type": "stream",
     "text": [
      "[-1, 2, -3, 4, -5, 6, -7, 8, -9, 10, -11, 12]\n"
     ]
    }
   ],
   "source": [
    "original_list = [-1,2,-3,4,-5,6,-7,8,-9,10,-11,12]\n",
    "\n",
    "sort_list = sorted(original_list, key = lambda i: 0 if i == 0 else -i/1)\n",
    "\n",
    "print(original_list)\n",
    "\n",
    "\n",
    "resulting_list = [2,4,6,8,10,12,-11,-9,-7,-5,-3,-1]"
   ]
  },
  {
   "cell_type": "code",
   "execution_count": 8,
   "id": "96d0ab4f-79e8-4584-b2fe-bdeddd657ac3",
   "metadata": {},
   "outputs": [
    {
     "ename": "SyntaxError",
     "evalue": "unterminated string literal (detected at line 2) (2958920520.py, line 2)",
     "output_type": "error",
     "traceback": [
      "\u001b[0;36m  Cell \u001b[0;32mIn[8], line 2\u001b[0;36m\u001b[0m\n\u001b[0;31m    JEOPARDY_DATA.csv_df = pd.read_csv(\"JEOPARDY_DATA.csv_df)\u001b[0m\n\u001b[0m                                       ^\u001b[0m\n\u001b[0;31mSyntaxError\u001b[0m\u001b[0;31m:\u001b[0m unterminated string literal (detected at line 2)\n"
     ]
    }
   ],
   "source": [
    "import pandas as pd\n",
    "JEOPARDY_DATA.csv_df = pd.read_csv(\"JEOPARDY_DATA.csv_df)\n",
    "JEOPARDY_DATA.head(10)"
   ]
  },
  {
   "cell_type": "code",
   "execution_count": null,
   "id": "57ceec0c-a8fd-4966-b98f-770d6d034985",
   "metadata": {},
   "outputs": [],
   "source": []
  }
 ],
 "metadata": {
  "kernelspec": {
   "display_name": "Python 3 (ipykernel)",
   "language": "python",
   "name": "python3"
  },
  "language_info": {
   "codemirror_mode": {
    "name": "ipython",
    "version": 3
   },
   "file_extension": ".py",
   "mimetype": "text/x-python",
   "name": "python",
   "nbconvert_exporter": "python",
   "pygments_lexer": "ipython3",
   "version": "3.12.1"
  }
 },
 "nbformat": 4,
 "nbformat_minor": 5
}
